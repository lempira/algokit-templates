{
 "cells": [
  {
   "cell_type": "markdown",
   "metadata": {},
   "source": [
    "# Introduction to AlgoKit Utils Python\n",
    "\n",
    "This Jupyter notebook is designed to introduce you to the AlgoKit Utils Python library through a series of demonstrations of Algorand concepts applied through code.\n",
    "\n",
    "The notebook code is designed so that it can be run in its entirety or in individual steps from top to bottom. Each of the sections has an explanation of what the subsequent code will accomplish and a link to the Algorand Developer Portal for additional reading on the topic."
   ]
  },
  {
   "cell_type": "markdown",
   "metadata": {},
   "source": [
    "## Initital Imports and Setup"
   ]
  },
  {
   "cell_type": "code",
   "execution_count": null,
   "metadata": {},
   "outputs": [],
   "source": [
    "import logging\n",
    "from time import sleep\n",
    "\n",
    "from algokit_utils import (\n",
    "    AlgoAmount,\n",
    "    AlgorandClient,\n",
    "    AssetCreateParams,\n",
    "    AssetOptInParams,\n",
    "    AssetTransferParams,\n",
    "    PaymentParams,\n",
    ")\n",
    "from algokit_utils.config import config\n",
    "from dotenv import load_dotenv\n",
    "\n",
    "# Configure Utils and Logging\n",
    "config.configure(populate_app_call_resources=True)\n",
    "\n",
    "# Set up logging and load environment variables\n",
    "logging.basicConfig(\n",
    "    level=logging.DEBUG, format=\"%(asctime)s %(levelname)-10s: %(message)s\"\n",
    ")\n",
    "logger = logging.getLogger(__name__)\n",
    "load_dotenv()"
   ]
  },
  {
   "cell_type": "markdown",
   "metadata": {},
   "source": [
    "## Initialize an Algorand Client\n",
    "\n",
    "To get started with AlgoKit Utils, first initialize an Algorand Client that will be used to interact with the chain. For learning and development, use LocalNet so that you can reset the chain as needed and have access to the genesis accounts with all 10B Algo.\n",
    "\n",
    "The client's methods are your gateway to a wide array of functionality to craft and send transactions, query chain data, and manage accounts. This client is a stateful class that remembers things like the network it is connected to, the signing keys for accounts it has created, and suggested transaction parameters from the node.\n",
    "\n",
    "You can learn more about the `AlgorandClient` at https://dev.algorand.co/algokit/utils/algokit-clients/#algorand-client-gateway-to-the-blockchain."
   ]
  },
  {
   "cell_type": "code",
   "execution_count": null,
   "metadata": {},
   "outputs": [],
   "source": [
    "algorand = AlgorandClient.default_localnet()"
   ]
  },
  {
   "cell_type": "markdown",
   "metadata": {},
   "source": [
    "## Create LocalNet Accounts\n",
    "\n",
    "Next, use the client to create two LocalNet accounts, Alice and Bob, funded with 100 Algos each. This will enable Alice and Bob to send transactions and create tokens.\n",
    "\n",
    "Learn more about LocalNet's capabilties to accelerate your development and testing efforts at https://dev.algorand.co/algokit/algokit-cli/localnet/."
   ]
  },
  {
   "cell_type": "code",
   "execution_count": null,
   "metadata": {},
   "outputs": [],
   "source": [
    "alice = algorand .account.from_environment(\"ALICE\", AlgoAmount(algo=100))\n",
    "bob = algorand.account.from_environment(\"BOB\", AlgoAmount(algo=100))\n",
    "print(\n",
    "    f\"\\nAlice's generated account address: {alice.address}. \\nView her account on Lora at https://lora.algokit.io/localnet/account/{alice.address}.\"\n",
    ")\n",
    "print(\n",
    "    f\"\\nBob's generated account address: {bob.address}. \\nView his account on Lora at https://lora.algokit.io/localnet/account/{bob.address}.\"\n",
    ")"
   ]
  },
  {
   "cell_type": "markdown",
   "metadata": {},
   "source": [
    "## Send Payment Transaction\n",
    "\n",
    "Now, let's have Alice send an Algo payment to Bob to see a very simple type of transaction. See https://dev.algorand.co/concepts/transactions/types/#payment-transaction for more information."
   ]
  },
  {
   "cell_type": "code",
   "execution_count": null,
   "metadata": {},
   "outputs": [],
   "source": [
    "pay_result = algorand.send.payment(\n",
    "    PaymentParams(\n",
    "        sender=alice.address,\n",
    "        receiver=bob.address,\n",
    "        amount=AlgoAmount(\n",
    "            algo=2\n",
    "        ),  # The AlgoAmount class is a helper to be explicit about amounts between microAlgos and Algos\n",
    "        note=b\"Hi, Bob!\",\n",
    "    )\n",
    ")\n",
    "print(\n",
    "    f\"\\nPay transaction confirmed with TxnID: {pay_result.tx_id}. \\nView it on Lora at https://lora.algokit.io/localnet/transaction/{pay_result.tx_id}.\"\n",
    ")"
   ]
  },
  {
   "cell_type": "markdown",
   "metadata": {},
   "source": [
    "## Create an Algorand Standard Asset (ASA)\n",
    "\n",
    "Now, let's have Alice create a token using an Algorand Standard Asset, which is often called an ASA or just asset. Note that some asset parameters are mutable, meaning they can be modified after creation, while others are immutable and can never be changed. See the docs to learn which parameters are (im)mutable: https://dev.algorand.co/concepts/assets/overview/."
   ]
  },
  {
   "cell_type": "code",
   "execution_count": null,
   "metadata": {},
   "outputs": [],
   "source": [
    "create_asset_result = algorand.send.asset_create(\n",
    "    AssetCreateParams(\n",
    "        sender=alice.address,\n",
    "        asset_name=\"My First ASA\",  # A human-readable name for the asset\n",
    "        unit_name=\"MFA\",  # A short ticker; this is not a unique identifier\n",
    "        total=1_000_000_000_000,  # The true supply of indivisible units\n",
    "        decimals=6,  # Used for displaying the asset amount off chain\n",
    "        default_frozen=False,  # This asset can be transferred freely\n",
    "        manager=alice.address,  # Account that can change the asset's config\n",
    "        reserve=alice.address,  # Account to hold non-circulating supply\n",
    "        freeze=alice.address,  # Account that can freeze asset holdings\n",
    "        clawback=alice.address,  # Account that can revoke asset holdings\n",
    "        url=\"https://algorand.co/algokit\",  # Often used to point to metadata\n",
    "        note=b\"This is my first Algorand Standard Asset!\",\n",
    "    )\n",
    ")\n",
    "\n",
    "# Store the Asset ID Alice created in a variable for later use in the script\n",
    "# This UInt64 Asset ID is a unique identifier for the asset on the chain\n",
    "created_asset = create_asset_result.asset_id\n",
    "print(\n",
    "    f\"\\nAsset ID {created_asset} create transaction confirmed with TxnID: {create_asset_result.tx_id}.\"\n",
    ")\n",
    "print(\n",
    "    f\"\\nView it on Lora at https://lora.algokit.io/localnet/asset/{created_asset}.\"\n",
    ")"
   ]
  },
  {
   "cell_type": "markdown",
   "metadata": {},
   "source": [
    "## Get ASA Information\n",
    "\n",
    "Here we'll get ASA information from algod's /v2/assets REST API endpoint. The response will contain all of the asset's current parameters from the ledger on chain.\n",
    "\n",
    "You can use interactive API tools like Scalar, Swagger, and Postman to explore Algorand's algod REST API endpoints here: https://dev.algorand.co/reference/rest-api/overview/#algod-rest-endpoints."
   ]
  },
  {
   "cell_type": "code",
   "execution_count": null,
   "metadata": {},
   "outputs": [],
   "source": [
    "asset_info = algorand.asset.get_by_id(created_asset)\n",
    "print(\n",
    "    f\"\\nAsset information from algod's /v2/assets/{{asset-id}} REST API endpoint: {asset_info}.\"\n",
    ")"
   ]
  },
  {
   "cell_type": "markdown",
   "metadata": {},
   "source": [
    "## Opt into an ASA\n",
    "\n",
    "Next, have Bob opt in to the ASA so that he will be able to hold it when Alice sends it to him. On Algorand, an account must always opt into the ASA before anyone can send that asset to it. Details about opting in and out of assets are available here: https://dev.algorand.co/concepts/assets/asset-operations/#opting-in-and-out-of-assets."
   ]
  },
  {
   "cell_type": "code",
   "execution_count": null,
   "metadata": {},
   "outputs": [],
   "source": [
    "bob_opt_in_result = algorand.send.asset_opt_in(\n",
    "    AssetOptInParams(\n",
    "        sender=bob.address,\n",
    "        asset_id=created_asset,\n",
    "    )\n",
    ")\n",
    "print(\n",
    "    f\"\\nAsset opt-in transaction confirmed with TxnID: {bob_opt_in_result.tx_id}. \\nView it on Lora at https://lora.algokit.io/localnet/transaction/{bob_opt_in_result.tx_id}.\"\n",
    ")"
   ]
  },
  {
   "cell_type": "markdown",
   "metadata": {},
   "source": [
    "## Send an Asset Transfer\n",
    "\n",
    "Now Alice can send some of the ASA to Bob, who is now able to receive it. Asset transfer transaction docs are available here: https://dev.algorand.co/concepts/transactions/types/#asset-transfer-transaction/."
   ]
  },
  {
   "cell_type": "code",
   "execution_count": null,
   "metadata": {},
   "outputs": [],
   "source": [
    "send_asset_result = algorand.send.asset_transfer(\n",
    "    AssetTransferParams(\n",
    "        sender=alice.address,\n",
    "        receiver=bob.address,\n",
    "        asset_id=created_asset,\n",
    "        amount=3_000_000,  # The amount is in the smallest unit of the asset\n",
    "        note=b\"Have a few of my first ASA!\",\n",
    "    )\n",
    ")\n",
    "print(\n",
    "    f\"\\nAsset transfer transaction confirmed with TxnID: {send_asset_result.tx_id}. \\nView it on Lora at https://lora.algokit.io/localnet/transaction/{send_asset_result.tx_id}.\"\n",
    ")"
   ]
  },
  {
   "cell_type": "markdown",
   "metadata": {},
   "source": [
    "## Get Account Information\n",
    "\n",
    "Here we'll get the current ledger state for Bob's account, including Algo balance, asset balances with some asset information, as well as application-related information like local state, and more. You can learn more about Algorand accounts at https://dev.algorand.co/concepts/accounts/overview/."
   ]
  },
  {
   "cell_type": "code",
   "execution_count": null,
   "metadata": {},
   "outputs": [],
   "source": [
    "bob_account_info = algorand.account.get_information(bob.address)\n",
    "print(\n",
    "    f\"\\nBob's account information from algod's /v2/accounts/{{address}} REST API endpoint: \\n{bob_account_info}.\"\n",
    ")"
   ]
  },
  {
   "cell_type": "markdown",
   "metadata": {},
   "source": [
    "## Build an Atomic Transaction Group\n",
    "\n",
    "Now we'll build an atomic transaction group with two transactions which, once grouped, must succeed together or fail together. Utils provides this fluent way of chaining method calls to build the group rather than using an SDK to create transactions and manually group them.\n",
    "\n",
    "When submitted, these transactions will be either confirmed or rejected together; one cannot go through without the other under any circumstance. Atomic transaction group docs can be found at https://dev.algorand.co/concepts/transactions/atomic-txn-groups/."
   ]
  },
  {
   "cell_type": "code",
   "execution_count": null,
   "metadata": {},
   "outputs": [],
   "source": [
    "group_result = (\n",
    "    algorand.send.new_group()\n",
    "    .add_payment(\n",
    "        PaymentParams(\n",
    "            sender=bob.address,\n",
    "            receiver=alice.address,\n",
    "            amount=AlgoAmount(algo=1),\n",
    "            note=b\"Thanks, Alice!\",\n",
    "        )\n",
    "    )\n",
    "    .add_asset_transfer(\n",
    "        AssetTransferParams(\n",
    "            sender=bob.address,\n",
    "            receiver=alice.address,\n",
    "            asset_id=created_asset,\n",
    "            amount=1_000_000,\n",
    "            note=b\"Sending back one of your token!\",\n",
    "        )\n",
    "    )\n",
    ").send()\n",
    "print(\n",
    "    f\"\\nAtomic transaction group confirmed with first TxnID: {group_result.tx_ids[0]}. \\nView it on Lora at https://lora.algokit.io/localnet/transaction/{group_result.tx_ids[0]}.\"\n",
    ")"
   ]
  },
  {
   "cell_type": "markdown",
   "metadata": {},
   "source": [
    "## Get Transaction Information from an Indexer\n",
    "\n",
    "Let's use another Algorand API, the indexer, to do a historical transaction search. You can explore the Indexer's capabilities interactively through Scalar, Swagger, or Postman here: https://dev.algorand.co/reference/rest-api/overview/#indexer-rest-endpoints.\n",
    "\n",
    "While the indexer is a powerful PostgreSQL database, indexing the entire chain's activity requires significant hardware resources, so developers should be cautious about building applications that rely on the indexer APIs or explore alternative infrastructure tools such as Conduit, which can be configured to index only relevant transactions that meet certain criteria. Conduit docs can be found at https://dev.algorand.co/nodes/installation/conduit-installation/. "
   ]
  },
  {
   "cell_type": "code",
   "execution_count": null,
   "metadata": {},
   "outputs": [],
   "source": [
    "# We add a short delay here because indexer can be a bit slow on LocalNet.\n",
    "# Engineering will be working on improving this in the future.\n",
    "print(\n",
    "    \"\\nSleeping for 30 seconds to let the LocalNet indexer to catch up, which can sometimes take a moment.\"\n",
    ")\n",
    "sleep(30)\n",
    "\n",
    "# Here the AlgorandClient exposes the underlying SDK indexer client to build\n",
    "# the query with various parameters. Be mindful of how broad the query is\n",
    "# to avoid long-running requests or needing to page through many results.\n",
    "transfer_search_results = algorand.client.indexer.search_transactions(\n",
    "    asset_id=created_asset,\n",
    "    txn_type=\"axfer\",\n",
    ")\n",
    "found_txn_ids = [txn[\"id\"] for txn in transfer_search_results[\"transactions\"]]\n",
    "print(\n",
    "    f\"\\nAsset transfer transaction IDs found by searching the indexer: {found_txn_ids}.\"\n",
    ")"
   ]
  }
 ],
 "metadata": {
  "kernelspec": {
   "display_name": ".venv",
   "language": "python",
   "name": "python3"
  },
  "language_info": {
   "name": "python",
   "version": "3.13.3"
  }
 },
 "nbformat": 4,
 "nbformat_minor": 2
}
